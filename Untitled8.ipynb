{
  "nbformat": 4,
  "nbformat_minor": 0,
  "metadata": {
    "colab": {
      "provenance": []
    },
    "kernelspec": {
      "name": "python3",
      "display_name": "Python 3"
    },
    "language_info": {
      "name": "python"
    }
  },
  "cells": [
    {
      "cell_type": "code",
      "execution_count": null,
      "metadata": {
        "id": "OZC1AAQwSYOx"
      },
      "outputs": [],
      "source": [
        "import pandas as pd\n",
        "pd.read_csv('/content/Toyota.csv')\n",
        "df=pd.read_csv('/content/train.csv')\n"
      ]
    },
    {
      "cell_type": "code",
      "source": [
        "df.describe()"
      ],
      "metadata": {
        "id": "anxwcZBJTBqx"
      },
      "execution_count": null,
      "outputs": []
    },
    {
      "cell_type": "code",
      "source": [
        "Age_mean_value=df['Age'].mean()\n",
        "df['Age']=df['Age'].fillna(Age_mean_value)"
      ],
      "metadata": {
        "id": "QCpMcOljTpUD"
      },
      "execution_count": null,
      "outputs": []
    },
    {
      "cell_type": "code",
      "source": [
        "df.drop(\"Cabin\",axis=1,inplace=True)"
      ],
      "metadata": {
        "id": "ZM67PKAxUKsN"
      },
      "execution_count": null,
      "outputs": []
    },
    {
      "cell_type": "code",
      "source": [
        "df.head()"
      ],
      "metadata": {
        "id": "p-fV75nLUR1p"
      },
      "execution_count": null,
      "outputs": []
    },
    {
      "cell_type": "code",
      "source": [
        "filtered_age=df[df.Age>40]\n",
        "filtered_age"
      ],
      "metadata": {
        "id": "cWdfG9zBUZmv"
      },
      "execution_count": null,
      "outputs": []
    },
    {
      "cell_type": "code",
      "source": [
        "sorted_passengers=df.sort_values('Name',ascending=True,kind='heapsort')"
      ],
      "metadata": {
        "id": "vq3SruG0UfC9"
      },
      "execution_count": null,
      "outputs": []
    },
    {
      "cell_type": "code",
      "source": [
        "sorted_passengers.head(10)"
      ],
      "metadata": {
        "id": "z6O1-ZowV58k"
      },
      "execution_count": null,
      "outputs": []
    },
    {
      "cell_type": "code",
      "source": [
        "merged_df=pd.merge(df.head(2),df.tail(2),how='outer',indicator=True)"
      ],
      "metadata": {
        "id": "Syg9Cyx3V-sv"
      },
      "execution_count": null,
      "outputs": []
    },
    {
      "cell_type": "code",
      "source": [
        "group_df=df.groupby('Name')"
      ],
      "metadata": {
        "id": "N2Auw-NgXGVM"
      },
      "execution_count": 10,
      "outputs": []
    },
    {
      "cell_type": "code",
      "source": [],
      "metadata": {
        "id": "lGf2pkkSXj6q"
      },
      "execution_count": null,
      "outputs": []
    }
  ]
}